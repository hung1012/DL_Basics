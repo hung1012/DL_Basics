{
  "nbformat": 4,
  "nbformat_minor": 0,
  "metadata": {
    "colab": {
      "name": "Sarcasm",
      "provenance": [],
      "collapsed_sections": [],
      "include_colab_link": true
    },
    "kernelspec": {
      "name": "python3",
      "display_name": "Python 3"
    },
    "accelerator": "GPU"
  },
  "cells": [
    {
      "cell_type": "markdown",
      "metadata": {
        "id": "view-in-github",
        "colab_type": "text"
      },
      "source": [
        "<a href=\"https://colab.research.google.com/github/hung1012/DL_Basics/blob/main/Sarcasm.ipynb\" target=\"_parent\"><img src=\"https://colab.research.google.com/assets/colab-badge.svg\" alt=\"Open In Colab\"/></a>"
      ]
    },
    {
      "cell_type": "markdown",
      "metadata": {
        "id": "ED0bpKA5rITi"
      },
      "source": [
        "#### Mục tiêu: Xây dựng mô hình có độ chính xác trên tập validation khoảng 84%"
      ]
    },
    {
      "cell_type": "code",
      "metadata": {
        "id": "Ac8aY72mm-LF"
      },
      "source": [
        "import json\n",
        "import tensorflow as tf\n",
        "\n",
        "from tensorflow.keras.preprocessing.text import Tokenizer\n",
        "from tensorflow.keras.preprocessing.sequence import pad_sequences"
      ],
      "execution_count": 31,
      "outputs": []
    },
    {
      "cell_type": "code",
      "metadata": {
        "id": "VaZQvC2RoudH"
      },
      "source": [
        "from tensorflow.keras.models import Sequential\n",
        "from tensorflow.keras.layers import Dense, Embedding, Flatten"
      ],
      "execution_count": 32,
      "outputs": []
    },
    {
      "cell_type": "code",
      "metadata": {
        "id": "GQ3LmxlVnGGr"
      },
      "source": [
        "vocab_size = 10000\n",
        "embedding_dim = 16\n",
        "max_length = 100\n",
        "trunc_type='post'\n",
        "padding_type='post'\n",
        "oov_tok = \"<OOV>\"\n",
        "training_size = 20000\n"
      ],
      "execution_count": 33,
      "outputs": []
    },
    {
      "cell_type": "code",
      "metadata": {
        "id": "M3o5hNpNnLSC",
        "colab": {
          "base_uri": "https://localhost:8080/"
        },
        "outputId": "c58d8344-c48c-4570-f6a8-a789afa48678"
      },
      "source": [
        "!wget --no-check-certificate \\\n",
        "    https://storage.googleapis.com/laurencemoroney-blog.appspot.com/sarcasm.json \\\n",
        "    -O /tmp/sarcasm.json\n"
      ],
      "execution_count": 34,
      "outputs": [
        {
          "output_type": "stream",
          "name": "stdout",
          "text": [
            "--2021-10-04 09:13:44--  https://storage.googleapis.com/laurencemoroney-blog.appspot.com/sarcasm.json\n",
            "Resolving storage.googleapis.com (storage.googleapis.com)... 64.233.184.128, 64.233.167.128, 64.233.166.128, ...\n",
            "Connecting to storage.googleapis.com (storage.googleapis.com)|64.233.184.128|:443... connected.\n",
            "HTTP request sent, awaiting response... 200 OK\n",
            "Length: 5643545 (5.4M) [application/json]\n",
            "Saving to: ‘/tmp/sarcasm.json’\n",
            "\n",
            "\r/tmp/sarcasm.json     0%[                    ]       0  --.-KB/s               \r/tmp/sarcasm.json   100%[===================>]   5.38M  --.-KB/s    in 0.06s   \n",
            "\n",
            "2021-10-04 09:13:44 (83.0 MB/s) - ‘/tmp/sarcasm.json’ saved [5643545/5643545]\n",
            "\n"
          ]
        }
      ]
    },
    {
      "cell_type": "code",
      "metadata": {
        "id": "5iJW8S0knOwf"
      },
      "source": [
        "with open(\"/tmp/sarcasm.json\", 'r') as f:\n",
        "    datastore = json.load(f)\n",
        "\n",
        "sentences = []\n",
        "labels = []\n",
        "\n",
        "for item in datastore:\n",
        "    sentences.append(item['headline'])\n",
        "    labels.append(item['is_sarcastic'])\n",
        "\n",
        "\n",
        "import numpy as np\n",
        "labels = np.array(labels)"
      ],
      "execution_count": 35,
      "outputs": []
    },
    {
      "cell_type": "code",
      "metadata": {
        "colab": {
          "base_uri": "https://localhost:8080/"
        },
        "id": "yInW9Bord3qy",
        "outputId": "90f47a0b-f09d-43e2-a3d9-5bef690e3f5d"
      },
      "source": [
        "labels\n"
      ],
      "execution_count": 36,
      "outputs": [
        {
          "output_type": "execute_result",
          "data": {
            "text/plain": [
              "array([0, 0, 1, ..., 0, 0, 0])"
            ]
          },
          "metadata": {},
          "execution_count": 36
        }
      ]
    },
    {
      "cell_type": "code",
      "metadata": {
        "id": "ADdgfi2BnQDb"
      },
      "source": [
        "# Chia features tập train\n",
        "training_sentences = sentences[0:training_size]\n",
        "# FIXME: Chia features tập test\n",
        "testing_sentences = sentences[(training_size+1):26709]\n",
        "# FIXME: Chia labels tập train\n",
        "training_labels = labels[0:training_size]\n",
        "# FIXME: Chia labels tập test\n",
        "testing_labels = labels[(training_size+1):26709]"
      ],
      "execution_count": 37,
      "outputs": []
    },
    {
      "cell_type": "code",
      "metadata": {
        "id": "QtcLlA3rnij6"
      },
      "source": [
        "# FIXME: Tạo tokenizer\n",
        "tokenizer = Tokenizer(num_words=vocab_size,oov_token=oov_tok)\n",
        "\n",
        "# FIXME: Đưa từ vào tokenizer để tạo từ điển\n",
        "\n",
        "tokenizer.fit_on_texts(training_sentences)\n",
        "\n",
        "# FIXME: Biến các câu train thành sequences\n",
        "\n",
        "training_sequences = tokenizer.texts_to_sequences(training_sentences)\n",
        "\n"
      ],
      "execution_count": 38,
      "outputs": []
    },
    {
      "cell_type": "code",
      "metadata": {
        "id": "rvp9uAudgU-C"
      },
      "source": [
        "# FIXME: Padding cho các train sequences\n",
        "\n",
        "training_padded = pad_sequences(training_sequences,maxlen=max_length, padding=padding_type, truncating=trunc_type)\n",
        "\n"
      ],
      "execution_count": 39,
      "outputs": []
    },
    {
      "cell_type": "code",
      "metadata": {
        "id": "6oXoGfGqg0ct"
      },
      "source": [
        "# FIXME: Biến các câu test thành sequences và padding tương ứng\n",
        "\n",
        "test_sequences = tokenizer.texts_to_sequences(testing_sentences)\n",
        "\n",
        "test_padded = pad_sequences(test_sequences, maxlen=max_length,padding=padding_type, truncating=trunc_type)"
      ],
      "execution_count": 40,
      "outputs": []
    },
    {
      "cell_type": "code",
      "metadata": {
        "id": "TUSDCqYQooDh"
      },
      "source": [
        "# Xây dựng model\n",
        "\n",
        "# FIXME: Tạo model Sequential\n",
        "\n",
        "model = Sequential()\n",
        "\n"
      ],
      "execution_count": 41,
      "outputs": []
    },
    {
      "cell_type": "code",
      "metadata": {
        "id": "nnw89vD5hs17"
      },
      "source": [
        "\n",
        "# FIXME: Thêm một lớp Embedding\n",
        "\n",
        "model.add(Embedding(input_dim=vocab_size,output_dim=embedding_dim, input_length=max_length))\n",
        "\n",
        "model.add(Flatten())\n",
        "\n",
        "# FIXME: Thêm một lớp Dense, chú ý có activation\n",
        "\n",
        "model.add(Dense(16, activation='relu'))\n",
        "\n",
        "# FIXME: Thêm một lớp Dense cuối, chú ý có activation\n",
        "\n",
        "model.add(Dense(1,activation='sigmoid'))"
      ],
      "execution_count": 42,
      "outputs": []
    },
    {
      "cell_type": "code",
      "metadata": {
        "colab": {
          "base_uri": "https://localhost:8080/"
        },
        "id": "fhu6R02fi-vi",
        "outputId": "6c11b9d4-97a4-421f-9785-222078c74db6"
      },
      "source": [
        "model.summary()"
      ],
      "execution_count": 43,
      "outputs": [
        {
          "output_type": "stream",
          "name": "stdout",
          "text": [
            "Model: \"sequential_1\"\n",
            "_________________________________________________________________\n",
            "Layer (type)                 Output Shape              Param #   \n",
            "=================================================================\n",
            "embedding_2 (Embedding)      (None, 100, 16)           160000    \n",
            "_________________________________________________________________\n",
            "flatten_1 (Flatten)          (None, 1600)              0         \n",
            "_________________________________________________________________\n",
            "dense_4 (Dense)              (None, 16)                25616     \n",
            "_________________________________________________________________\n",
            "dense_5 (Dense)              (None, 1)                 17        \n",
            "=================================================================\n",
            "Total params: 185,633\n",
            "Trainable params: 185,633\n",
            "Non-trainable params: 0\n",
            "_________________________________________________________________\n"
          ]
        }
      ]
    },
    {
      "cell_type": "code",
      "metadata": {
        "id": "E59eZek1pdAQ"
      },
      "source": [
        "# FIXME: Compile Optimizer và Loss function\n",
        "\n",
        "model.compile(optimizer='adam',loss='binary_crossentropy',metrics=['acc'])"
      ],
      "execution_count": 44,
      "outputs": []
    },
    {
      "cell_type": "code",
      "metadata": {
        "id": "pOcPg5DRprqH",
        "colab": {
          "base_uri": "https://localhost:8080/"
        },
        "outputId": "fc985024-1df5-4cf9-b9ce-ad680d332ec9"
      },
      "source": [
        "# FIXME: Tiến hành training\n",
        "\n",
        "model.fit(training_padded,training_labels,epochs=10,validation_data=(test_padded,testing_labels))"
      ],
      "execution_count": 45,
      "outputs": [
        {
          "output_type": "stream",
          "name": "stdout",
          "text": [
            "Epoch 1/10\n",
            "625/625 [==============================] - 4s 6ms/step - loss: 0.4430 - acc: 0.7753 - val_loss: 0.3183 - val_acc: 0.8643\n",
            "Epoch 2/10\n",
            "625/625 [==============================] - 3s 5ms/step - loss: 0.2071 - acc: 0.9196 - val_loss: 0.3125 - val_acc: 0.8649\n",
            "Epoch 3/10\n",
            "625/625 [==============================] - 3s 5ms/step - loss: 0.1141 - acc: 0.9621 - val_loss: 0.3616 - val_acc: 0.8591\n",
            "Epoch 4/10\n",
            "625/625 [==============================] - 3s 5ms/step - loss: 0.0567 - acc: 0.9837 - val_loss: 0.4163 - val_acc: 0.8552\n",
            "Epoch 5/10\n",
            "625/625 [==============================] - 3s 5ms/step - loss: 0.0249 - acc: 0.9947 - val_loss: 0.4819 - val_acc: 0.8541\n",
            "Epoch 6/10\n",
            "625/625 [==============================] - 3s 5ms/step - loss: 0.0108 - acc: 0.9985 - val_loss: 0.5482 - val_acc: 0.8520\n",
            "Epoch 7/10\n",
            "625/625 [==============================] - 3s 5ms/step - loss: 0.0056 - acc: 0.9992 - val_loss: 0.6177 - val_acc: 0.8511\n",
            "Epoch 8/10\n",
            "625/625 [==============================] - 3s 5ms/step - loss: 0.0032 - acc: 0.9994 - val_loss: 0.6507 - val_acc: 0.8505\n",
            "Epoch 9/10\n",
            "625/625 [==============================] - 3s 5ms/step - loss: 0.0021 - acc: 0.9995 - val_loss: 0.7096 - val_acc: 0.8468\n",
            "Epoch 10/10\n",
            "625/625 [==============================] - 3s 5ms/step - loss: 0.0016 - acc: 0.9996 - val_loss: 0.7419 - val_acc: 0.8487\n"
          ]
        },
        {
          "output_type": "execute_result",
          "data": {
            "text/plain": [
              "<keras.callbacks.History at 0x7f6ce8938890>"
            ]
          },
          "metadata": {},
          "execution_count": 45
        }
      ]
    },
    {
      "cell_type": "code",
      "metadata": {
        "id": "he-aXqEDpzrX"
      },
      "source": [
        "# FIXME: Tiến hành dự đoán"
      ],
      "execution_count": 46,
      "outputs": []
    },
    {
      "cell_type": "code",
      "metadata": {
        "id": "P_0xcZq1p1xf",
        "colab": {
          "base_uri": "https://localhost:8080/"
        },
        "outputId": "1fb097c5-82f0-44fa-fc38-c16e10cd644c"
      },
      "source": [
        "test_sen = [\"Everyone seems normal until you get to know them.\"]\n",
        "\n",
        "# FIXME: Chuyển câu thành Sequences\n",
        "test_sequences1 = tokenizer.texts_to_sequences(test_sen)\n",
        "\n",
        "# FIXME: padding cho câu này\n",
        "test_sequences1 = pad_sequences(test_sequences1, maxlen=max_length, padding='post', truncating='post')\n",
        "# FIXME: Tiến hành dự đoán\n",
        "\n",
        "model.predict(test_sequences1)"
      ],
      "execution_count": 48,
      "outputs": [
        {
          "output_type": "execute_result",
          "data": {
            "text/plain": [
              "array([[0.9543078]], dtype=float32)"
            ]
          },
          "metadata": {},
          "execution_count": 48
        }
      ]
    }
  ]
}