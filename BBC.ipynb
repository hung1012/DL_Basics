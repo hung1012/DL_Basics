{
  "nbformat": 4,
  "nbformat_minor": 0,
  "metadata": {
    "colab": {
      "name": "BBC",
      "provenance": [],
      "collapsed_sections": [],
      "include_colab_link": true
    },
    "kernelspec": {
      "name": "python3",
      "display_name": "Python 3"
    },
    "accelerator": "GPU"
  },
  "cells": [
    {
      "cell_type": "markdown",
      "metadata": {
        "id": "view-in-github",
        "colab_type": "text"
      },
      "source": [
        "<a href=\"https://colab.research.google.com/github/hung1012/DL_Basics/blob/main/BBC.ipynb\" target=\"_parent\"><img src=\"https://colab.research.google.com/assets/colab-badge.svg\" alt=\"Open In Colab\"/></a>"
      ]
    },
    {
      "cell_type": "markdown",
      "metadata": {
        "id": "xvAsqFi70UhP"
      },
      "source": [
        "#### Mục tiêu: Xây dựng mô hình có độ chính xác trên tập validation khoảng 94%"
      ]
    },
    {
      "cell_type": "code",
      "metadata": {
        "id": "EHtGV54utuEP",
        "colab": {
          "base_uri": "https://localhost:8080/"
        },
        "outputId": "54ad13f8-4eaf-462d-cc94-53b524f36b2f"
      },
      "source": [
        "import csv\n",
        "import tensorflow as tf\n",
        "import numpy as np\n",
        "from tensorflow.keras.preprocessing.text import Tokenizer\n",
        "from tensorflow.keras.preprocessing.sequence import pad_sequences\n",
        "\n",
        "!wget --no-check-certificate \\\n",
        "    https://storage.googleapis.com/protonx-cloud-storage/bbc-text.csv \\\n",
        "    -O /tmp/bbc-text.csv"
      ],
      "execution_count": null,
      "outputs": [
        {
          "output_type": "stream",
          "name": "stdout",
          "text": [
            "--2021-10-05 09:02:12--  https://storage.googleapis.com/protonx-cloud-storage/bbc-text.csv\n",
            "Resolving storage.googleapis.com (storage.googleapis.com)... 142.251.8.128, 74.125.23.128, 74.125.203.128, ...\n",
            "Connecting to storage.googleapis.com (storage.googleapis.com)|142.251.8.128|:443... connected.\n",
            "HTTP request sent, awaiting response... 200 OK\n",
            "Length: 5057493 (4.8M) [application/octet-stream]\n",
            "Saving to: ‘/tmp/bbc-text.csv’\n",
            "\n",
            "/tmp/bbc-text.csv   100%[===================>]   4.82M  30.7MB/s    in 0.2s    \n",
            "\n",
            "2021-10-05 09:02:12 (30.7 MB/s) - ‘/tmp/bbc-text.csv’ saved [5057493/5057493]\n",
            "\n"
          ]
        }
      ]
    },
    {
      "cell_type": "code",
      "metadata": {
        "id": "hqGsv8Rvt3Q_"
      },
      "source": [
        "vocab_size = 1000\n",
        "embedding_dim = 16\n",
        "max_length = 120\n",
        "trunc_type = 'post'\n",
        "padding_type = 'post'\n",
        "oov_tok = '<OOV>'\n",
        "training_portion = .8"
      ],
      "execution_count": null,
      "outputs": []
    },
    {
      "cell_type": "code",
      "metadata": {
        "id": "t5Z6pc0y1nQT",
        "colab": {
          "base_uri": "https://localhost:8080/"
        },
        "outputId": "32fee31e-4485-46f5-9ed5-ef42b2922112"
      },
      "source": [
        "sentences = []\n",
        "labels = []\n",
        "stopwords = [ \"a\", \"about\", \"above\", \"after\", \"again\", \"against\", \"all\", \"am\", \"an\", \"and\", \"any\", \"are\", \"as\", \"at\", \"be\", \"because\", \"been\", \"before\", \"being\", \"below\", \"between\", \"both\", \"but\", \"by\", \"could\", \"did\", \"do\", \"does\", \"doing\", \"down\", \"during\", \"each\", \"few\", \"for\", \"from\", \"further\", \"had\", \"has\", \"have\", \"having\", \"he\", \"he'd\", \"he'll\", \"he's\", \"her\", \"here\", \"here's\", \"hers\", \"herself\", \"him\", \"himself\", \"his\", \"how\", \"how's\", \"i\", \"i'd\", \"i'll\", \"i'm\", \"i've\", \"if\", \"in\", \"into\", \"is\", \"it\", \"it's\", \"its\", \"itself\", \"let's\", \"me\", \"more\", \"most\", \"my\", \"myself\", \"nor\", \"of\", \"on\", \"once\", \"only\", \"or\", \"other\", \"ought\", \"our\", \"ours\", \"ourselves\", \"out\", \"over\", \"own\", \"same\", \"she\", \"she'd\", \"she'll\", \"she's\", \"should\", \"so\", \"some\", \"such\", \"than\", \"that\", \"that's\", \"the\", \"their\", \"theirs\", \"them\", \"themselves\", \"then\", \"there\", \"there's\", \"these\", \"they\", \"they'd\", \"they'll\", \"they're\", \"they've\", \"this\", \"those\", \"through\", \"to\", \"too\", \"under\", \"until\", \"up\", \"very\", \"was\", \"we\", \"we'd\", \"we'll\", \"we're\", \"we've\", \"were\", \"what\", \"what's\", \"when\", \"when's\", \"where\", \"where's\", \"which\", \"while\", \"who\", \"who's\", \"whom\", \"why\", \"why's\", \"with\", \"would\", \"you\", \"you'd\", \"you'll\", \"you're\", \"you've\", \"your\", \"yours\", \"yourself\", \"yourselves\" ]\n",
        "print(len(stopwords))\n",
        "# Expected Output\n",
        "# 153"
      ],
      "execution_count": null,
      "outputs": [
        {
          "output_type": "stream",
          "name": "stdout",
          "text": [
            "153\n"
          ]
        }
      ]
    },
    {
      "cell_type": "code",
      "metadata": {
        "id": "vXLdbhNHyrSu",
        "colab": {
          "base_uri": "https://localhost:8080/"
        },
        "outputId": "018b6a73-8b2e-4c77-87d0-bde567018812"
      },
      "source": [
        "with open(\"/tmp/bbc-text.csv\", 'r') as csvfile:\n",
        "    reader = csv.reader(csvfile, delimiter=',')\n",
        "    next(reader)\n",
        "    for row in reader:\n",
        "        labels.append(row[0])\n",
        "        sentence = row[1]\n",
        "        for word in stopwords:\n",
        "            token = \" \" + word + \" \"\n",
        "            sentence = sentence.replace(token, \" \")\n",
        "        sentences.append(sentence)\n",
        "\n",
        "print(len(labels))\n",
        "print(len(sentences))\n",
        "print(sentences[0])\n",
        "# Expected Output\n",
        "# 2225\n",
        "# 2225\n",
        "# tv future hands viewers home theatre systems  plasma high-definition tvs  digital video recorders moving living room  way people watch tv will radically different five years  time.  according expert panel gathered annual consumer electronics show las vegas discuss new technologies will impact one favourite pastimes. us leading trend  programmes content will delivered viewers via home networks  cable  satellite  telecoms companies  broadband service providers front rooms portable devices.  one talked-about technologies ces digital personal video recorders (dvr pvr). set-top boxes  like us s tivo uk s sky+ system  allow people record  store  play  pause forward wind tv programmes want.  essentially  technology allows much personalised tv. also built-in high-definition tv sets  big business japan us  slower take off europe lack high-definition programming. not can people forward wind adverts  can also forget abiding network channel schedules  putting together a-la-carte entertainment. us networks cable satellite companies worried means terms advertising revenues well  brand identity  viewer loyalty channels. although us leads technology moment  also concern raised europe  particularly growing uptake services like sky+.  happens today  will see nine months years  time uk   adam hume  bbc broadcast s futurologist told bbc news website. likes bbc  no issues lost advertising revenue yet. pressing issue moment commercial uk broadcasters  brand loyalty important everyone.  will talking content brands rather network brands   said tim hanlon  brand communications firm starcom mediavest.  reality broadband connections  anybody can producer content.  added:  challenge now hard promote programme much choice.   means  said stacey jolna  senior vice president tv guide tv group  way people find content want watch simplified tv viewers. means networks  us terms  channels take leaf google s book search engine future  instead scheduler help people find want watch. kind channel model might work younger ipod generation used taking control gadgets play them. might not suit everyone  panel recognised. older generations comfortable familiar schedules channel brands know getting. perhaps not want much choice put hands  mr hanlon suggested.  end  kids just diapers pushing buttons already - everything possible available   said mr hanlon.  ultimately  consumer will tell market want.   50 000 new gadgets technologies showcased ces  many enhancing tv-watching experience. high-definition tv sets everywhere many new models lcd (liquid crystal display) tvs launched dvr capability built  instead external boxes. one example launched show humax s 26-inch lcd tv 80-hour tivo dvr dvd recorder. one us s biggest satellite tv companies  directtv  even launched branded dvr show 100-hours recording capability  instant replay  search function. set can pause rewind tv 90 hours. microsoft chief bill gates announced pre-show keynote speech partnership tivo  called tivotogo  means people can play recorded programmes windows pcs mobile devices. reflect increasing trend freeing multimedia people can watch want  want."
      ],
      "execution_count": null,
      "outputs": [
        {
          "output_type": "stream",
          "name": "stdout",
          "text": [
            "2225\n",
            "2225\n",
            "tv future hands viewers home theatre systems  plasma high-definition tvs  digital video recorders moving living room  way people watch tv will radically different five years  time.  according expert panel gathered annual consumer electronics show las vegas discuss new technologies will impact one favourite pastimes. us leading trend  programmes content will delivered viewers via home networks  cable  satellite  telecoms companies  broadband service providers front rooms portable devices.  one talked-about technologies ces digital personal video recorders (dvr pvr). set-top boxes  like us s tivo uk s sky+ system  allow people record  store  play  pause forward wind tv programmes want.  essentially  technology allows much personalised tv. also built-in high-definition tv sets  big business japan us  slower take off europe lack high-definition programming. not can people forward wind adverts  can also forget abiding network channel schedules  putting together a-la-carte entertainment. us networks cable satellite companies worried means terms advertising revenues well  brand identity  viewer loyalty channels. although us leads technology moment  also concern raised europe  particularly growing uptake services like sky+.  happens today  will see nine months years  time uk   adam hume  bbc broadcast s futurologist told bbc news website. likes bbc  no issues lost advertising revenue yet. pressing issue moment commercial uk broadcasters  brand loyalty important everyone.  will talking content brands rather network brands   said tim hanlon  brand communications firm starcom mediavest.  reality broadband connections  anybody can producer content.  added:  challenge now hard promote programme much choice.   means  said stacey jolna  senior vice president tv guide tv group  way people find content want watch simplified tv viewers. means networks  us terms  channels take leaf google s book search engine future  instead scheduler help people find want watch. kind channel model might work younger ipod generation used taking control gadgets play them. might not suit everyone  panel recognised. older generations comfortable familiar schedules channel brands know getting. perhaps not want much choice put hands  mr hanlon suggested.  end  kids just diapers pushing buttons already - everything possible available   said mr hanlon.  ultimately  consumer will tell market want.   50 000 new gadgets technologies showcased ces  many enhancing tv-watching experience. high-definition tv sets everywhere many new models lcd (liquid crystal display) tvs launched dvr capability built  instead external boxes. one example launched show humax s 26-inch lcd tv 80-hour tivo dvr dvd recorder. one us s biggest satellite tv companies  directtv  even launched branded dvr show 100-hours recording capability  instant replay  search function. set can pause rewind tv 90 hours. microsoft chief bill gates announced pre-show keynote speech partnership tivo  called tivotogo  means people can play recorded programmes windows pcs mobile devices. reflect increasing trend freeing multimedia people can watch want  want.\n"
          ]
        }
      ]
    },
    {
      "cell_type": "code",
      "metadata": {
        "id": "4-d9MM-Vyr3d",
        "colab": {
          "base_uri": "https://localhost:8080/"
        },
        "outputId": "15ce8269-d3f5-49e7-a0e2-62935defc03a"
      },
      "source": [
        "train_size = 1780\n",
        "\n",
        "train_sentences = sentences[0:1780]\n",
        "train_labels = labels[0:1780]\n",
        "\n",
        "validation_sentences = sentences[1780:]\n",
        "validation_labels = labels[1780:]\n",
        "\n",
        "print(train_size)\n",
        "print(len(train_sentences))\n",
        "print(len(train_labels))\n",
        "print(len(validation_sentences))\n",
        "print(len(validation_labels))\n",
        "\n",
        "# Expected output (if training_portion=.8)\n",
        "# 1780\n",
        "# 1780\n",
        "# 1780\n",
        "# 445\n",
        "# 445"
      ],
      "execution_count": null,
      "outputs": [
        {
          "output_type": "stream",
          "name": "stdout",
          "text": [
            "1780\n",
            "1780\n",
            "1780\n",
            "445\n",
            "445\n"
          ]
        }
      ]
    },
    {
      "cell_type": "code",
      "metadata": {
        "id": "pRfJbzPky1tl"
      },
      "source": [
        "tokenizer = Tokenizer(num_words=vocab_size,oov_token=oov_tok)\n",
        "tokenizer.fit_on_texts(train_sentences)"
      ],
      "execution_count": null,
      "outputs": []
    },
    {
      "cell_type": "code",
      "metadata": {
        "colab": {
          "base_uri": "https://localhost:8080/"
        },
        "id": "6jLe7tVNBgRZ",
        "outputId": "57af9f72-0a33-46ab-ec20-fa274e13148b"
      },
      "source": [
        "word_index = tokenizer.word_index\n",
        "\n",
        "train_sequences = tokenizer.texts_to_sequences(train_sentences)\n",
        "train_padded = pad_sequences(train_sequences, maxlen = max_length, padding=padding_type, truncating=trunc_type)\n",
        "\n",
        "print(len(train_sequences[0]))\n",
        "print(len(train_padded[0]))\n",
        "\n",
        "print(len(train_sequences[1]))\n",
        "print(len(train_padded[1]))\n",
        "\n",
        "print(len(train_sequences[10]))\n",
        "print(len(train_padded[10]))\n",
        "\n",
        "# Expected Ouput\n",
        "# 449\n",
        "# 120\n",
        "# 200\n",
        "# 120\n",
        "# 192\n",
        "# 120"
      ],
      "execution_count": null,
      "outputs": [
        {
          "output_type": "stream",
          "name": "stdout",
          "text": [
            "449\n",
            "120\n",
            "200\n",
            "120\n",
            "192\n",
            "120\n"
          ]
        }
      ]
    },
    {
      "cell_type": "code",
      "metadata": {
        "id": "NStFFN_EzDa9",
        "colab": {
          "base_uri": "https://localhost:8080/"
        },
        "outputId": "8160ef73-a1ed-4ce4-8023-9147937a1a53"
      },
      "source": [
        "validation_sequences = tokenizer.texts_to_sequences(validation_sentences)\n",
        "validation_padded = pad_sequences(validation_sequences,maxlen=max_length, padding=padding_type, truncating=trunc_type)\n",
        "\n",
        "print(len(validation_sequences))\n",
        "print(validation_padded.shape)\n",
        "\n",
        "# Expected output\n",
        "# 445\n",
        "# (445, 120)"
      ],
      "execution_count": null,
      "outputs": [
        {
          "output_type": "stream",
          "name": "stdout",
          "text": [
            "445\n",
            "(445, 120)\n"
          ]
        }
      ]
    },
    {
      "cell_type": "code",
      "metadata": {
        "id": "c7Ioj82szI5F"
      },
      "source": [
        "label_tokenizer =  Tokenizer()\n",
        "label_tokenizer.fit_on_texts(labels)"
      ],
      "execution_count": null,
      "outputs": []
    },
    {
      "cell_type": "code",
      "metadata": {
        "colab": {
          "base_uri": "https://localhost:8080/"
        },
        "id": "q99NjO_wEi9s",
        "outputId": "be1e3e34-490f-48c5-dee6-a7f2dc7ebc3b"
      },
      "source": [
        "training_label_seq = np.array(label_tokenizer.texts_to_sequences(train_labels))\n",
        "validation_label_seq =  np.array(label_tokenizer.texts_to_sequences(validation_labels))\n",
        "\n",
        "print(training_label_seq[0])\n",
        "print(training_label_seq[1])\n",
        "print(training_label_seq[2])\n",
        "print(training_label_seq.shape)\n",
        "\n",
        "print(validation_label_seq[0])\n",
        "print(validation_label_seq[1])\n",
        "print(validation_label_seq[2])\n",
        "print(validation_label_seq.shape)\n",
        "\n",
        "# Expected output\n",
        "# [4]\n",
        "# [2]\n",
        "# [1]\n",
        "# (1780, 1)\n",
        "# [5]\n",
        "# [4]\n",
        "# [3]\n",
        "# (445, 1)"
      ],
      "execution_count": null,
      "outputs": [
        {
          "output_type": "stream",
          "name": "stdout",
          "text": [
            "[4]\n",
            "[2]\n",
            "[1]\n",
            "(1780, 1)\n",
            "[5]\n",
            "[4]\n",
            "[3]\n",
            "(445, 1)\n"
          ]
        }
      ]
    },
    {
      "cell_type": "code",
      "metadata": {
        "id": "M0B-935NspDw"
      },
      "source": [
        "from tensorflow.keras.models import Sequential\n",
        "from tensorflow.keras.layers import Embedding\n",
        "from tensorflow.keras.layers import GlobalAveragePooling1D\n",
        "from tensorflow.keras.layers import Dense"
      ],
      "execution_count": null,
      "outputs": []
    },
    {
      "cell_type": "code",
      "metadata": {
        "id": "OU4gKem_sn8V"
      },
      "source": [
        "model = Sequential()\n",
        "model.add(Embedding(input_dim=vocab_size,output_dim=embedding_dim, input_length=max_length))\n",
        "model.add(GlobalAveragePooling1D())\n",
        "model.add(Dense(24, activation='relu'))\n",
        "model.add(Dense(6, activation='softmax'))"
      ],
      "execution_count": null,
      "outputs": []
    },
    {
      "cell_type": "code",
      "metadata": {
        "colab": {
          "base_uri": "https://localhost:8080/"
        },
        "id": "YFYVm9ZDtNlg",
        "outputId": "782fe1d5-1616-41b0-cb24-5f0d6bf52687"
      },
      "source": [
        "model.summary()\n",
        "\n",
        "# Expected Output\n",
        "# Layer (type)                 Output Shape              Param #   \n",
        "# =================================================================\n",
        "# embedding (Embedding)        (None, 120, 16)           16000     \n",
        "# _________________________________________________________________\n",
        "# global_average_pooling1d (Gl (None, 16)                0         \n",
        "# _________________________________________________________________\n",
        "# dense (Dense)                (None, 24)                408       \n",
        "# _________________________________________________________________\n",
        "# dense_1 (Dense)              (None, 6)                 150       \n",
        "# =================================================================\n",
        "# Total params: 16,558\n",
        "# Trainable params: 16,558\n",
        "# Non-trainable params: 0"
      ],
      "execution_count": null,
      "outputs": [
        {
          "output_type": "stream",
          "name": "stdout",
          "text": [
            "Model: \"sequential_11\"\n",
            "_________________________________________________________________\n",
            "Layer (type)                 Output Shape              Param #   \n",
            "=================================================================\n",
            "embedding_7 (Embedding)      (None, 120, 16)           16000     \n",
            "_________________________________________________________________\n",
            "global_average_pooling1d_3 ( (None, 16)                0         \n",
            "_________________________________________________________________\n",
            "dense_6 (Dense)              (None, 24)                408       \n",
            "_________________________________________________________________\n",
            "dense_7 (Dense)              (None, 6)                 150       \n",
            "=================================================================\n",
            "Total params: 16,558\n",
            "Trainable params: 16,558\n",
            "Non-trainable params: 0\n",
            "_________________________________________________________________\n"
          ]
        }
      ]
    },
    {
      "cell_type": "code",
      "metadata": {
        "id": "R3v6LzpKzRKl"
      },
      "source": [
        "model.compile(loss='sparse_categorical_crossentropy',optimizer='adam',metrics=['accuracy'])"
      ],
      "execution_count": null,
      "outputs": []
    },
    {
      "cell_type": "code",
      "metadata": {
        "id": "uv4eMFn_zYel",
        "colab": {
          "base_uri": "https://localhost:8080/"
        },
        "outputId": "d466d33b-383a-456a-92e2-79524c875554"
      },
      "source": [
        "num_epochs = 30\n",
        "history = model.fit(train_padded, training_label_seq, validation_data=(validation_padded, validation_label_seq), epochs=num_epochs)"
      ],
      "execution_count": null,
      "outputs": [
        {
          "output_type": "stream",
          "name": "stdout",
          "text": [
            "Epoch 1/30\n",
            "56/56 [==============================] - 1s 12ms/step - loss: 1.7615 - accuracy: 0.2461 - val_loss: 1.7187 - val_accuracy: 0.2876\n",
            "Epoch 2/30\n",
            "56/56 [==============================] - 0s 7ms/step - loss: 1.6683 - accuracy: 0.3781 - val_loss: 1.5960 - val_accuracy: 0.4494\n",
            "Epoch 3/30\n",
            "56/56 [==============================] - 0s 6ms/step - loss: 1.5074 - accuracy: 0.4685 - val_loss: 1.4066 - val_accuracy: 0.4697\n",
            "Epoch 4/30\n",
            "56/56 [==============================] - 0s 6ms/step - loss: 1.2937 - accuracy: 0.5101 - val_loss: 1.2072 - val_accuracy: 0.5483\n",
            "Epoch 5/30\n",
            "56/56 [==============================] - 0s 6ms/step - loss: 1.0970 - accuracy: 0.6034 - val_loss: 1.0386 - val_accuracy: 0.6315\n",
            "Epoch 6/30\n",
            "56/56 [==============================] - 0s 5ms/step - loss: 0.9365 - accuracy: 0.7410 - val_loss: 0.9056 - val_accuracy: 0.7685\n",
            "Epoch 7/30\n",
            "56/56 [==============================] - 0s 6ms/step - loss: 0.7898 - accuracy: 0.8556 - val_loss: 0.7726 - val_accuracy: 0.8719\n",
            "Epoch 8/30\n",
            "56/56 [==============================] - 0s 5ms/step - loss: 0.6498 - accuracy: 0.9129 - val_loss: 0.6525 - val_accuracy: 0.8944\n",
            "Epoch 9/30\n",
            "56/56 [==============================] - 0s 6ms/step - loss: 0.5229 - accuracy: 0.9348 - val_loss: 0.5383 - val_accuracy: 0.8966\n",
            "Epoch 10/30\n",
            "56/56 [==============================] - 0s 5ms/step - loss: 0.4185 - accuracy: 0.9506 - val_loss: 0.4567 - val_accuracy: 0.9169\n",
            "Epoch 11/30\n",
            "56/56 [==============================] - 0s 6ms/step - loss: 0.3366 - accuracy: 0.9584 - val_loss: 0.3926 - val_accuracy: 0.9191\n",
            "Epoch 12/30\n",
            "56/56 [==============================] - 0s 5ms/step - loss: 0.2755 - accuracy: 0.9618 - val_loss: 0.3430 - val_accuracy: 0.9236\n",
            "Epoch 13/30\n",
            "56/56 [==============================] - 0s 7ms/step - loss: 0.2297 - accuracy: 0.9657 - val_loss: 0.3086 - val_accuracy: 0.9303\n",
            "Epoch 14/30\n",
            "56/56 [==============================] - 0s 6ms/step - loss: 0.1946 - accuracy: 0.9697 - val_loss: 0.2818 - val_accuracy: 0.9348\n",
            "Epoch 15/30\n",
            "56/56 [==============================] - 0s 6ms/step - loss: 0.1665 - accuracy: 0.9758 - val_loss: 0.2618 - val_accuracy: 0.9326\n",
            "Epoch 16/30\n",
            "56/56 [==============================] - 0s 7ms/step - loss: 0.1436 - accuracy: 0.9803 - val_loss: 0.2475 - val_accuracy: 0.9371\n",
            "Epoch 17/30\n",
            "56/56 [==============================] - 0s 6ms/step - loss: 0.1245 - accuracy: 0.9837 - val_loss: 0.2332 - val_accuracy: 0.9393\n",
            "Epoch 18/30\n",
            "56/56 [==============================] - 0s 6ms/step - loss: 0.1097 - accuracy: 0.9871 - val_loss: 0.2211 - val_accuracy: 0.9438\n",
            "Epoch 19/30\n",
            "56/56 [==============================] - 0s 6ms/step - loss: 0.0969 - accuracy: 0.9876 - val_loss: 0.2187 - val_accuracy: 0.9416\n",
            "Epoch 20/30\n",
            "56/56 [==============================] - 0s 6ms/step - loss: 0.0850 - accuracy: 0.9904 - val_loss: 0.2096 - val_accuracy: 0.9506\n",
            "Epoch 21/30\n",
            "56/56 [==============================] - 0s 6ms/step - loss: 0.0759 - accuracy: 0.9921 - val_loss: 0.2021 - val_accuracy: 0.9438\n",
            "Epoch 22/30\n",
            "56/56 [==============================] - 0s 5ms/step - loss: 0.0674 - accuracy: 0.9944 - val_loss: 0.2019 - val_accuracy: 0.9416\n",
            "Epoch 23/30\n",
            "56/56 [==============================] - 0s 6ms/step - loss: 0.0602 - accuracy: 0.9949 - val_loss: 0.1968 - val_accuracy: 0.9438\n",
            "Epoch 24/30\n",
            "56/56 [==============================] - 0s 6ms/step - loss: 0.0542 - accuracy: 0.9966 - val_loss: 0.1940 - val_accuracy: 0.9416\n",
            "Epoch 25/30\n",
            "56/56 [==============================] - 0s 6ms/step - loss: 0.0487 - accuracy: 0.9966 - val_loss: 0.1921 - val_accuracy: 0.9461\n",
            "Epoch 26/30\n",
            "56/56 [==============================] - 0s 6ms/step - loss: 0.0436 - accuracy: 0.9972 - val_loss: 0.1910 - val_accuracy: 0.9438\n",
            "Epoch 27/30\n",
            "56/56 [==============================] - 0s 6ms/step - loss: 0.0392 - accuracy: 0.9983 - val_loss: 0.1924 - val_accuracy: 0.9438\n",
            "Epoch 28/30\n",
            "56/56 [==============================] - 0s 6ms/step - loss: 0.0354 - accuracy: 0.9983 - val_loss: 0.1902 - val_accuracy: 0.9461\n",
            "Epoch 29/30\n",
            "56/56 [==============================] - 0s 5ms/step - loss: 0.0321 - accuracy: 0.9994 - val_loss: 0.1895 - val_accuracy: 0.9461\n",
            "Epoch 30/30\n",
            "56/56 [==============================] - 0s 5ms/step - loss: 0.0289 - accuracy: 0.9994 - val_loss: 0.1883 - val_accuracy: 0.9438\n"
          ]
        }
      ]
    }
  ]
}